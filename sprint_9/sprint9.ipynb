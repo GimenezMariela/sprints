{
 "cells": [
  {
   "cell_type": "markdown",
   "id": "7840b80d-8c25-4df3-8469-44fae313a791",
   "metadata": {},
   "source": [
    "# Mariela Gimenez \n",
    "\n",
    "sprint 9 : Python"
   ]
  },
  {
   "cell_type": "code",
   "execution_count": 36,
   "id": "8c162ae5-5f84-41a2-ab7e-d741389e08af",
   "metadata": {},
   "outputs": [],
   "source": [
    "import os"
   ]
  },
  {
   "cell_type": "markdown",
   "id": "7207c94c-c928-4891-98b3-fdad63f717c0",
   "metadata": {},
   "source": [
    "## Nivel 1\n",
    "\n",
    "#### 1. Crear una calculadora IMC"
   ]
  },
  {
   "cell_type": "code",
   "execution_count": 17,
   "id": "136524c0-fbde-451e-a2ad-5c2c8c9076a3",
   "metadata": {},
   "outputs": [
    {
     "name": "stdin",
     "output_type": "stream",
     "text": [
      "Por favor introduzca tu peso 90\n",
      "Introduce tu estatura 1.67\n"
     ]
    },
    {
     "data": {
      "text/plain": [
       "'Obesidad Media'"
      ]
     },
     "execution_count": 17,
     "metadata": {},
     "output_type": "execute_result"
    }
   ],
   "source": [
    "def calcular_imc():\n",
    "    peso = float(input(\"Por favor introduzca tu peso\"))\n",
    "    estatura = float(input(\"Introduce tu estatura\"))\n",
    "\n",
    "    imc = peso/(estatura**2)\n",
    "\n",
    "   # if isinstance(imc,float):\n",
    "    if imc < 18.49:\n",
    "        return \"Peso Bajo\"\n",
    "    elif 18.50 >= imc <= 24.99:\n",
    "        return \"Peso Normal\"\n",
    "    elif 25 >= imc <= 29.99:\n",
    "        return \"SobrePeso\"\n",
    "    elif 30 >= imc <= 34.99:\n",
    "        return \"Obesidad Leve\"\n",
    "    elif 35 >= imc <= 39.99:\n",
    "        return \"Obesidad Media\"\n",
    "    else:\n",
    "        return \"Obesidad Mórbida\"\n",
    "    #else:\n",
    "     #   print(\"Formato erroneo, deberia de ser un float o un double\")\n",
    "\n",
    "    #return imc\n",
    "\n",
    "calcular_imc()"
   ]
  },
  {
   "cell_type": "markdown",
   "id": "ea2e89db-ce3d-4947-80a4-4ea226fca27d",
   "metadata": {},
   "source": [
    "#### 2. Convertidor de Temperaturas"
   ]
  },
  {
   "cell_type": "code",
   "execution_count": 52,
   "id": "8e31ea45-16a0-4e00-87c5-9eec809cfb70",
   "metadata": {},
   "outputs": [
    {
     "name": "stdin",
     "output_type": "stream",
     "text": [
      "Introduzca la temperatura \n"
     ]
    },
    {
     "ename": "ValueError",
     "evalue": "could not convert string to float: ''",
     "output_type": "error",
     "traceback": [
      "\u001b[1;31m---------------------------------------------------------------------------\u001b[0m",
      "\u001b[1;31mValueError\u001b[0m                                Traceback (most recent call last)",
      "Cell \u001b[1;32mIn[52], line 9\u001b[0m\n\u001b[0;32m      6\u001b[0m     resultado \u001b[38;5;241m=\u001b[39m \u001b[38;5;28mprint\u001b[39m(\u001b[38;5;124m\"\u001b[39m\u001b[38;5;124mLa temperatura en Fahrenheit es\u001b[39m\u001b[38;5;124m\"\u001b[39m,fahrenheit,\u001b[38;5;124m\"\u001b[39m\u001b[38;5;124mºF\u001b[39m\u001b[38;5;124m\"\u001b[39m, \u001b[38;5;124m\"\u001b[39m\u001b[38;5;124my el de Kelvin es\u001b[39m\u001b[38;5;124m\"\u001b[39m, kelvin,\u001b[38;5;124m\"\u001b[39m\u001b[38;5;124mK\u001b[39m\u001b[38;5;124m\"\u001b[39m)\n\u001b[0;32m      7\u001b[0m     \u001b[38;5;28;01mreturn\u001b[39;00m resultado \u001b[38;5;66;03m#\"La temperatura en Fahrenheit es:\" fahrenheit \"y el de Kelvin es {kelvin}\"\u001b[39;00m\n\u001b[1;32m----> 9\u001b[0m \u001b[43mconvertidor_temperatura\u001b[49m\u001b[43m(\u001b[49m\u001b[43m)\u001b[49m\n",
      "Cell \u001b[1;32mIn[52], line 2\u001b[0m, in \u001b[0;36mconvertidor_temperatura\u001b[1;34m()\u001b[0m\n\u001b[0;32m      1\u001b[0m \u001b[38;5;28;01mdef\u001b[39;00m \u001b[38;5;21mconvertidor_temperatura\u001b[39m():\n\u001b[1;32m----> 2\u001b[0m     temperatura \u001b[38;5;241m=\u001b[39m \u001b[38;5;28;43mfloat\u001b[39;49m\u001b[43m(\u001b[49m\u001b[38;5;28;43minput\u001b[39;49m\u001b[43m(\u001b[49m\u001b[38;5;124;43m\"\u001b[39;49m\u001b[38;5;124;43mIntroduzca la temperatura\u001b[39;49m\u001b[38;5;124;43m\"\u001b[39;49m\u001b[43m)\u001b[49m\u001b[43m)\u001b[49m\n\u001b[0;32m      4\u001b[0m     fahrenheit \u001b[38;5;241m=\u001b[39m temperatura\u001b[38;5;241m*\u001b[39m\u001b[38;5;241m1.8\u001b[39m\u001b[38;5;241m+\u001b[39m\u001b[38;5;241m32\u001b[39m\n\u001b[0;32m      5\u001b[0m     kelvin \u001b[38;5;241m=\u001b[39m temperatura\u001b[38;5;241m+\u001b[39m\u001b[38;5;241m273.15\u001b[39m\n",
      "\u001b[1;31mValueError\u001b[0m: could not convert string to float: ''"
     ]
    }
   ],
   "source": [
    "def convertidor_temperatura():\n",
    "    temperatura = float(input(\"Introduzca la temperatura\"))\n",
    "\n",
    "    fahrenheit = temperatura*1.8+32\n",
    "    kelvin = temperatura+273.15\n",
    "    resultado = print(\"La temperatura en Fahrenheit es\",fahrenheit,\"ºF\", \"y el de Kelvin es\", kelvin,\"K\")\n",
    "    return resultado #\"La temperatura en Fahrenheit es:\" fahrenheit \"y el de Kelvin es {kelvin}\"\n",
    "\n",
    "convertidor_temperatura()\n",
    "    "
   ]
  },
  {
   "cell_type": "markdown",
   "id": "50c7030a-eb88-4cdd-a839-214152dfc88f",
   "metadata": {},
   "source": [
    "### 3. Contar las palabras"
   ]
  },
  {
   "cell_type": "code",
   "execution_count": 57,
   "id": "d43b22ad-7fb2-4003-9be6-874315bfe12f",
   "metadata": {},
   "outputs": [
    {
     "name": "stdout",
     "output_type": "stream",
     "text": [
      "  hola: 2\n",
      "  com: 1\n",
      "  va: 1\n"
     ]
    }
   ],
   "source": [
    "def contador_palabras(texto):\n",
    "    texto = texto.lower()\n",
    "    \n",
    "    signos = \".,;:!?¿¡()[]{}\\\"'\"\n",
    "    for signo in signos:\n",
    "        texto = texto.replace(signo, \" \")\n",
    "        \n",
    "    palabras = texto.split()\n",
    "    if len(palabras) == 0:\n",
    "       return \"El texto está vacío o no contiene palabras válidas\"\n",
    "\n",
    "    contador = {}\n",
    "    for palabra in palabras:\n",
    "        if palabra in contador:\n",
    "            contador[palabra] += 1\n",
    "        else:\n",
    "            contador[palabra] = 1\n",
    "\n",
    "    suma_lon = 0\n",
    "    for palabra in palabras:\n",
    "        suma_lon += len(palabra)\n",
    "    longitud_media = suma_lon / len(palabras)\n",
    "\n",
    "    \n",
    "    for palabra, veces in contador.items():\n",
    "        print(f\"  {palabra}: {veces}\")\n",
    "\n",
    "texto = \"Hola,hola com va?\"\n",
    "contador_palabras(texto)\n"
   ]
  },
  {
   "cell_type": "markdown",
   "id": "433fefe1-31a2-4f78-bb46-f50c0a941d40",
   "metadata": {},
   "source": [
    "### 4. Diccionario inverso ( con posibilidades de duplicados) "
   ]
  },
  {
   "cell_type": "code",
   "execution_count": 64,
   "id": "3b23c93a-9414-420f-9930-665b0452cd12",
   "metadata": {},
   "outputs": [
    {
     "name": "stdout",
     "output_type": "stream",
     "text": [
      "{1: 'a', 2: 'b', 3: 'c'}\n",
      "{1: ['a', 'c'], 2: 'b'}\n"
     ]
    }
   ],
   "source": [
    "def diccionario_reverso(dic):\n",
    "    inverso = {}\n",
    "    for clave, valor in dic.items():\n",
    "        if valor in inverso:\n",
    "            if isinstance(inverso[valor], list):\n",
    "                inverso[valor].append(clave)\n",
    "            else:\n",
    "                inverso[valor] = [inverso[valor], clave]\n",
    "            #print(f\"Valor repetido: {valor} → {inverso[valor]}\")\n",
    "        else:\n",
    "            inverso[valor] = clave\n",
    "    return inverso\n",
    "\n",
    "dic1_ = {'a':1, 'b':2, 'c':3}\n",
    "print(diccionario_reverso(dic1_))\n",
    "\n",
    "dic2_ = {'a':1, 'b':2, 'c':1}\n",
    "print(diccionario_reverso(dic2_))\n"
   ]
  },
  {
   "cell_type": "markdown",
   "id": "a91a88f0-9127-43b0-a10c-44a7b36b5049",
   "metadata": {},
   "source": [
    "## Nivel 2\n",
    "### 1. Contador y Enderezador de palabras de un texto "
   ]
  },
  {
   "cell_type": "code",
   "execution_count": 67,
   "id": "d847409d-9c40-4bc5-b19a-a50506016f32",
   "metadata": {},
   "outputs": [
    {
     "name": "stdout",
     "output_type": "stream",
     "text": [
      "  tãº: 8\n",
      "  me: 10\n",
      "  quieres: 6\n",
      "  alba: 4\n",
      "  de: 8\n",
      "  espumas: 1\n",
      "  nã: 1\n",
      "  car: 1\n",
      "  que: 6\n",
      "  sea: 1\n",
      "  azucena: 1\n",
      "  sobre: 2\n",
      "  todas: 2\n",
      "  casta: 3\n",
      "  perfume: 1\n",
      "  tenue: 1\n",
      "  corola: 1\n",
      "  cerrada: 1\n",
      "  ni: 2\n",
      "  un: 1\n",
      "  rayo: 1\n",
      "  luna: 1\n",
      "  filtrado: 1\n",
      "  haya: 1\n",
      "  una: 1\n",
      "  margarita: 1\n",
      "  se: 2\n",
      "  diga: 1\n",
      "  mi: 1\n",
      "  hermana: 1\n",
      "  nã­vea: 2\n",
      "  blanca: 3\n",
      "  hubiste: 1\n",
      "  las: 7\n",
      "  copas: 1\n",
      "  a: 3\n",
      "  mano: 1\n",
      "  frutos: 1\n",
      "  y: 5\n",
      "  mieles: 1\n",
      "  los: 4\n",
      "  labios: 1\n",
      "  morados: 1\n",
      "  en: 4\n",
      "  el: 4\n",
      "  banquete: 1\n",
      "  cubierto: 1\n",
      "  pã: 2\n",
      "  mpanos: 1\n",
      "  dejaste: 1\n",
      "  carnes: 2\n",
      "  festejando: 1\n",
      "  baco: 1\n",
      "  jardines: 1\n",
      "  negros: 1\n",
      "  del: 1\n",
      "  engaã±o: 1\n",
      "  vestido: 1\n",
      "  rojo: 1\n",
      "  corriste: 1\n",
      "  al: 2\n",
      "  estrago: 1\n",
      "  esqueleto: 1\n",
      "  conservas: 1\n",
      "  intacto: 1\n",
      "  no: 1\n",
      "  sã©: 1\n",
      "  todavã­a: 1\n",
      "  por: 2\n",
      "  cuã: 1\n",
      "  les: 1\n",
      "  milagros: 1\n",
      "  pretendes: 3\n",
      "  dios: 2\n",
      "  te: 3\n",
      "  lo: 2\n",
      "  perdone: 2\n",
      "  â: 1\n",
      "  huye: 1\n",
      "  hacia: 1\n",
      "  bosques: 1\n",
      "  vete: 1\n",
      "  la: 3\n",
      "  montaã±a: 1\n",
      "  lã­mpiate: 1\n",
      "  boca: 1\n",
      "  vive: 1\n",
      "  cabaã±as: 1\n",
      "  toca: 1\n",
      "  con: 4\n",
      "  manos: 1\n",
      "  tierra: 1\n",
      "  mojada: 1\n",
      "  alimenta: 1\n",
      "  cuerpo: 1\n",
      "  raã­z: 1\n",
      "  amarga: 1\n",
      "  bebe: 1\n",
      "  rocas: 1\n",
      "  duerme: 1\n",
      "  escarcha: 1\n",
      "  renueva: 1\n",
      "  tejidos: 1\n",
      "  salitre: 1\n",
      "  agua: 1\n",
      "  habla: 1\n",
      "  jaros: 1\n",
      "  lã©vate: 1\n",
      "  cuando: 2\n",
      "  sean: 1\n",
      "  tornadas: 1\n",
      "  hayas: 1\n",
      "  puesto: 1\n",
      "  ellas: 1\n",
      "  alma: 1\n",
      "  alcobas: 1\n",
      "  quedã³: 1\n",
      "  enredada: 1\n",
      "  entonces: 1\n",
      "  buen: 1\n",
      "  hombre: 1\n",
      "  pretã©ndeme: 3\n",
      "None\n"
     ]
    }
   ],
   "source": [
    "ruta = r\"C:\\Users\\Sergi\\Desktop\\Mariela\\IT ACADEMY\\Python\\sprint_9\\tu me quieres blanca.txt\"\n",
    "with open(ruta, \"r\")as archivo:\n",
    "    contenido = archivo.read()\n",
    "    #print(contenido)\n",
    "    print(contador_palabras(contenido))"
   ]
  },
  {
   "cell_type": "markdown",
   "id": "7e73d938-13ff-4875-a987-e0c9a3ce0905",
   "metadata": {},
   "source": [
    "### 2. Conversion de tipos de datos."
   ]
  },
  {
   "cell_type": "code",
   "execution_count": 76,
   "id": "197e2a72-32d9-4660-983d-b2dd6f7a7f0a",
   "metadata": {},
   "outputs": [
    {
     "data": {
      "text/plain": [
       "\"Convertibles: [12.0, 3.14, 45.0, nan, 1.0, 10000000000.0]  NO convertibles: ['hola', '7,8', None]\""
      ]
     },
     "execution_count": 76,
     "metadata": {},
     "output_type": "execute_result"
    }
   ],
   "source": [
    "def conversion_datos(datos):\n",
    "    convertibles = []\n",
    "    no_convertibles = []\n",
    "    \n",
    "    for elem in datos:\n",
    "        try:\n",
    "            num = float(elem)\n",
    "            convertibles.append(num)\n",
    "        except (ValueError, TypeError):\n",
    "            no_convertibles.append(elem)\n",
    "    return f\"Convertibles: {convertibles} NO convertibles: {no_convertibles}\"\n",
    "    \n",
    "datos = [\"12\", \"3.14\", \"hola\", \"45\", \"NaN\", \"7,8\", None, True, \"1e10\"]\n",
    "#print(\"Convertibles:\", convertibles)\n",
    "#print(\"NO convertibles:\", no_convertibles)\n",
    "conversion_datos(datos)"
   ]
  },
  {
   "cell_type": "code",
   "execution_count": null,
   "id": "af9e2c42-d30e-453a-9624-38bedb529ffa",
   "metadata": {},
   "outputs": [],
   "source": []
  }
 ],
 "metadata": {
  "kernelspec": {
   "display_name": "Python [conda env:miniconda3-pydata-book]",
   "language": "python",
   "name": "conda-env-miniconda3-pydata-book-py"
  },
  "language_info": {
   "codemirror_mode": {
    "name": "ipython",
    "version": 3
   },
   "file_extension": ".py",
   "mimetype": "text/x-python",
   "name": "python",
   "nbconvert_exporter": "python",
   "pygments_lexer": "ipython3",
   "version": "3.10.15"
  }
 },
 "nbformat": 4,
 "nbformat_minor": 5
}
